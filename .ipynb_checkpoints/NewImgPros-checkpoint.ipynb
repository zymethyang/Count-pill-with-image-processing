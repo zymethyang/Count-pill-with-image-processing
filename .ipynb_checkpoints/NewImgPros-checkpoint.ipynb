{
 "cells": [
  {
   "cell_type": "code",
   "execution_count": 1,
   "metadata": {},
   "outputs": [],
   "source": [
    "from sklearn.neural_network import MLPClassifier\n",
    "from sklearn.model_selection import train_test_split\n",
    "from matplotlib import pyplot as plt\n",
    "\n",
    "\n",
    "import math\n",
    "import numpy as np\n",
    "import argparse\n",
    "import glob\n",
    "import cv2\n",
    "import pandas as pd\n",
    "\n",
    "path = \"./input2.jpg\"\n",
    "image = cv2.imread(path)\n",
    "\n",
    "# resize image while retaining aspect ratio\n",
    "d = 1024 / image.shape[1]\n",
    "dim = (1024, int(image.shape[0] * d))\n",
    "image = cv2.resize(image, dim, interpolation=cv2.INTER_AREA)\n",
    "\n",
    "# create a copy of the image to display results\n",
    "output = image.copy()\n",
    "\n",
    "# convert image to grayscale\n",
    "gray = cv2.cvtColor(image, cv2.COLOR_BGR2GRAY)\n",
    "\n",
    "# improve contrast accounting for differences in lighting conditions:\n",
    "# create a CLAHE object to apply contrast limiting adaptive histogram equalization\n",
    "clahe = cv2.createCLAHE(clipLimit=2.0, tileGridSize=(8, 8))\n",
    "gray = clahe.apply(gray)\n",
    "\n",
    "\n",
    "def calcHistogram(img):\n",
    "    # create mask\n",
    "    m = np.zeros(img.shape[:2], dtype=\"uint8\")\n",
    "    (w, h) = (int(img.shape[1] / 2), int(img.shape[0] / 2))\n",
    "    cv2.circle(m, (w, h), 60, 255, -1)\n",
    "\n",
    "    # calcHist expects a list of images, color channels, mask, bins, ranges\n",
    "    h = cv2.calcHist([img], [0, 1, 2], m, [8, 8, 8], [0, 256, 0, 256, 0, 256])\n",
    "\n",
    "    # return normalized \"flattened\" histogram\n",
    "    return cv2.normalize(h, h).flatten()\n",
    "\n",
    "\n",
    "def calcHistFromFile(file):\n",
    "    img = cv2.imread(file)\n",
    "    return calcHistogram(img)\n",
    "\n",
    "\n",
    "# define Enum class\n",
    "class Enum(tuple): __getattr__ = tuple.index\n",
    "\n",
    "\n",
    "# Enumerate material types for use in classifier\n",
    "Material = Enum(('Copper', 'Pill'))\n",
    "\n",
    "# locate sample image files\n",
    "sample_images_copper = glob.glob(\"sample_images/copper/*\")\n",
    "sample_images_pill = glob.glob(\"sample_images/pill/*\")"
   ]
  },
  {
   "cell_type": "code",
   "execution_count": 2,
   "metadata": {},
   "outputs": [],
   "source": [
    "def predictMaterial(roi):\n",
    "    # calculate feature vector for region of interest\n",
    "    hist = calcHistogram(roi)\n",
    "\n",
    "    # predict material type\n",
    "    s = clf.predict([hist])\n",
    "\n",
    "    # return predicted material type\n",
    "    return Material[int(s)]"
   ]
  },
  {
   "cell_type": "code",
   "execution_count": 17,
   "metadata": {},
   "outputs": [
    {
     "name": "stdout",
     "output_type": "stream",
     "text": [
      "Classifier mean accuracy:  100\n"
     ]
    }
   ],
   "source": [
    "\n",
    "# define training data and labels\n",
    "X = []\n",
    "y = []\n",
    "\n",
    "# compute and store training data and labels\n",
    "for i in sample_images_copper:\n",
    "    X.append(calcHistFromFile(i))\n",
    "    y.append(Material.Copper)\n",
    "for i in sample_images_pill:\n",
    "    X.append(calcHistFromFile(i))\n",
    "    y.append(Material.Pill)\n",
    "    \n",
    "# instantiate classifier\n",
    "# Multi-layer Perceptron\n",
    "# score: 0.974137931034\n",
    "clf = MLPClassifier(solver=\"lbfgs\")\n",
    "\n",
    "# split samples into training and test data\n",
    "X_train, X_test, y_train, y_test = train_test_split(\n",
    "    X, y, test_size=.2)\n",
    "\n",
    "# train and score classifier\n",
    "clf.fit(X_train, y_train)\n",
    "score = int(clf.score(X_test, y_test) * 100)\n",
    "print(\"Classifier mean accuracy: \", score)\n",
    "\n",
    "# blur the image using Gaussian blurring, where pixels closer to the center\n",
    "# contribute more \"weight\" to the average, first argument is the source image,\n",
    "# second argument is kernel size, third one is sigma (0 for autodetect)\n",
    "# we use a 7x7 kernel and let OpenCV detect sigma\n",
    "blurred = cv2.GaussianBlur(gray, (7, 7), 0)"
   ]
  },
  {
   "cell_type": "code",
   "execution_count": 18,
   "metadata": {},
   "outputs": [
    {
     "name": "stdout",
     "output_type": "stream",
     "text": [
      "[[[430.2     103.8      63.68   ]\n",
      "  [185.40001 239.40001  75.68   ]\n",
      "  [294.6     132.6      63.8    ]\n",
      "  [621.      151.8      53.6    ]\n",
      "  [647.4     267.       61.16   ]\n",
      "  [508.2     285.       84.92   ]\n",
      "  [370.2     241.8      56.96   ]\n",
      "  [817.80005 250.20001  58.04   ]]]\n"
     ]
    }
   ],
   "source": [
    "# circles: A vector that stores x, y, r for each detected circle.\n",
    "# src_gray: Input image (grayscale)\n",
    "# CV_HOUGH_GRADIENT: Defines the detection method.\n",
    "# dp = 2.2: The inverse ratio of resolution\n",
    "# min_dist = 100: Minimum distance between detected centers\n",
    "# param_1 = 200: Upper threshold for the internal Canny edge detector\n",
    "# param_2 = 100*: Threshold for center detection.\n",
    "# min_radius = 50: Minimum radius to be detected.\n",
    "# max_radius = 120: Maximum radius to be detected.\n",
    "circles = cv2.HoughCircles(blurred, cv2.HOUGH_GRADIENT, dp=1.2, minDist=100,\n",
    "                           param1=100, param2=100, minRadius=50, maxRadius=120)\n",
    "print(circles)"
   ]
  },
  {
   "cell_type": "code",
   "execution_count": null,
   "metadata": {},
   "outputs": [],
   "source": []
  },
  {
   "cell_type": "code",
   "execution_count": null,
   "metadata": {},
   "outputs": [],
   "source": []
  }
 ],
 "metadata": {
  "kernelspec": {
   "display_name": "Python 3",
   "language": "python",
   "name": "python3"
  },
  "language_info": {
   "codemirror_mode": {
    "name": "ipython",
    "version": 3
   },
   "file_extension": ".py",
   "mimetype": "text/x-python",
   "name": "python",
   "nbconvert_exporter": "python",
   "pygments_lexer": "ipython3",
   "version": "3.7.3"
  }
 },
 "nbformat": 4,
 "nbformat_minor": 2
}
